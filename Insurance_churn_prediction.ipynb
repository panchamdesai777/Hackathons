{
  "nbformat": 4,
  "nbformat_minor": 0,
  "metadata": {
    "colab": {
      "name": "Insurance_churn_prediction.ipynb",
      "provenance": [],
      "authorship_tag": "ABX9TyMGvQsj9hvK8jCo41xl2EGe",
      "include_colab_link": true
    },
    "kernelspec": {
      "name": "python3",
      "display_name": "Python 3"
    }
  },
  "cells": [
    {
      "cell_type": "markdown",
      "metadata": {
        "id": "view-in-github",
        "colab_type": "text"
      },
      "source": [
        "<a href=\"https://colab.research.google.com/github/panchamdesai777/Hackathons/blob/master/Insurance_churn_prediction.ipynb\" target=\"_parent\"><img src=\"https://colab.research.google.com/assets/colab-badge.svg\" alt=\"Open In Colab\"/></a>"
      ]
    },
    {
      "cell_type": "markdown",
      "metadata": {
        "id": "fHH1km331RVt",
        "colab_type": "text"
      },
      "source": [
        "# **Insurance Churn Prediction**\n",
        "\n",
        "---\n",
        "\n",
        "![alt text](https://analyticsindiamag.com/wp-content/uploads/2020/04/Insurance_Churn-scaled.jpg)\n",
        "\n",
        "\n",
        "### **Description:**\n",
        "\n",
        "Insurance companies around the world operate in a very competitive environment. With various aspects of data collected from millions of customers, it is painstakingly hard to analyze and understand the reason for a customer’s decision to switch to a different insurance provider.\n",
        "\n",
        "For an industry where customer acquisition and retention are equally important, and the former being a more expensive process, insurance companies rely on data to understand customer behaviour to prevent retention. Thus knowing whether a customer is possibly going to switch beforehand gives Insurance companies an opportunity to come up with strategies to prevent it from actually happening.\n",
        "\n",
        "### **Dataset Description :** \n",
        "\n",
        "Given are 16 distinguishing factors that can help in understanding the customer churn, your objective as a data scientist is to build a Machine Learning model that can predict whether the insurance company will lose a customer or not using these factors.\n",
        "You are provided with 16 anonymized factors (feature_0 to feature 15) that influence the churn of customers in the insurance industry\n",
        "\n",
        "### **Overview of Train Data**\n",
        "\n",
        "![alt text](https://www.machinehack.com/wp-content/uploads/2020/04/Screenshot-2020-04-22-at-12.04.50-PM-1024x201.png)\n",
        "\n",
        "\n",
        "### **Overview of Test Data**\n",
        "\n",
        "![alt text](https://www.machinehack.com/wp-content/uploads/2020/04/Screenshot-2020-04-22-at-12.06.59-PM-1024x212.png)\n",
        "\n",
        "### **Sample Submission File**\n",
        "\n",
        "![alt text](https://www.machinehack.com/wp-content/uploads/2020/04/Screenshot-2020-04-22-at-12.08.22-PM.png)\n",
        "\n"
      ]
    },
    {
      "cell_type": "code",
      "metadata": {
        "id": "3YJwDvIe1Kjd",
        "colab_type": "code",
        "colab": {}
      },
      "source": [
        ""
      ],
      "execution_count": 0,
      "outputs": []
    }
  ]
}