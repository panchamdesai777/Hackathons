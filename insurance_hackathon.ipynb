{
  "nbformat": 4,
  "nbformat_minor": 0,
  "metadata": {
    "colab": {
      "name": "insurance_hackathon.ipynb",
      "provenance": [],
      "collapsed_sections": [],
      "authorship_tag": "ABX9TyPfVfagK2j0FfmQU461mo4M",
      "include_colab_link": true
    },
    "kernelspec": {
      "name": "python3",
      "display_name": "Python 3"
    }
  },
  "cells": [
    {
      "cell_type": "markdown",
      "metadata": {
        "id": "view-in-github",
        "colab_type": "text"
      },
      "source": [
        "<a href=\"https://colab.research.google.com/github/panchamdesai777/Hackathons/blob/master/insurance_hackathon.ipynb\" target=\"_parent\"><img src=\"https://colab.research.google.com/assets/colab-badge.svg\" alt=\"Open In Colab\"/></a>"
      ]
    },
    {
      "cell_type": "markdown",
      "metadata": {
        "id": "VIrut1mYOgBX",
        "colab_type": "text"
      },
      "source": [
        "# **Insurance Churn Prediction**\n",
        "\n",
        "---\n",
        "\n",
        "![alt text](https://analyticsindiamag.com/wp-content/uploads/2020/04/Insurance_Churn-scaled.jpg)\n",
        "\n",
        "\n",
        "### **Description:**\n",
        "\n",
        "Insurance companies around the world operate in a very competitive environment. With various aspects of data collected from millions of customers, it is painstakingly hard to analyze and understand the reason for a customer’s decision to switch to a different insurance provider.\n",
        "\n",
        "For an industry where customer acquisition and retention are equally important, and the former being a more expensive process, insurance companies rely on data to understand customer behaviour to prevent retention. Thus knowing whether a customer is possibly going to switch beforehand gives Insurance companies an opportunity to come up with strategies to prevent it from actually happening.\n",
        "\n",
        "### **Dataset Description :** \n",
        "\n",
        "Given are 16 distinguishing factors that can help in understanding the customer churn, your objective as a data scientist is to build a Machine Learning model that can predict whether the insurance company will lose a customer or not using these factors.\n",
        "You are provided with 16 anonymized factors (feature_0 to feature 15) that influence the churn of customers in the insurance industry\n",
        "\n",
        "### **Overview of Train Data**\n",
        "\n",
        "![alt text](https://www.machinehack.com/wp-content/uploads/2020/04/Screenshot-2020-04-22-at-12.04.50-PM-1024x201.png)\n",
        "\n",
        "\n",
        "### **Overview of Test Data**\n",
        "\n",
        "![alt text](https://www.machinehack.com/wp-content/uploads/2020/04/Screenshot-2020-04-22-at-12.06.59-PM-1024x212.png)\n",
        "\n",
        "### **Sample Submission File**\n",
        "\n",
        "![alt text](https://www.machinehack.com/wp-content/uploads/2020/04/Screenshot-2020-04-22-at-12.08.22-PM.png)\n",
        "\n"
      ]
    },
    {
      "cell_type": "code",
      "metadata": {
        "id": "KLVD4jaK923z",
        "colab_type": "code",
        "colab": {}
      },
      "source": [
        "#importing all the libraries\n",
        "import numpy as np\n",
        "import pandas as pd\n",
        "import matplotlib.pyplot as plt\n",
        "import matplotlib.style as style # for styling the graphss\n",
        "# style.available (to know the available list of styles)\n",
        "style.use('ggplot') # chosen style\n",
        "plt.rc('xtick',labelsize=13) # to globally set the tick size\n",
        "plt.rc('ytick',labelsize=13) # to globally set the tick size\n",
        "# To print multiple outputs together\n",
        "from IPython.core.interactiveshell import InteractiveShell\n",
        "InteractiveShell.ast_node_interactivity = \"all\"\n",
        "# Change column display number during print\n",
        "pd.set_option('display.max_columns', 500)\n",
        "# Ignore warnings\n",
        "import warnings\n",
        "warnings.filterwarnings('ignore')\n",
        "# To display float with 2 decimal, avoid scientific printing\n",
        "pd.options.display.float_format = '{:.2f}'.format\n",
        "import seaborn as sns\n",
        "import warnings\n",
        "from sklearn.linear_model import LogisticRegression\n",
        "from sklearn.tree import DecisionTreeClassifier\n",
        "from sklearn.model_selection import train_test_split\n",
        "from sklearn.metrics import confusion_matrix, precision_recall_curve, auc, roc_auc_score, roc_curve, recall_score, classification_report\n",
        "from sklearn.metrics import roc_auc_score ,mean_squared_error,accuracy_score,classification_report,roc_curve,confusion_matrix,precision_score,f1_score\n",
        "import itertools\n",
        "from sklearn.model_selection import GridSearchCV, cross_val_score\n",
        "from sklearn.ensemble import RandomForestClassifier\n",
        "from xgboost import XGBClassifier\n",
        "from lightgbm import LGBMClassifier\n"
      ],
      "execution_count": 0,
      "outputs": []
    },
    {
      "cell_type": "code",
      "metadata": {
        "id": "YjikhkCx-Nkt",
        "colab_type": "code",
        "outputId": "f8c0f78d-e5df-45d2-be76-00ab4ac75f99",
        "colab": {
          "resources": {
            "http://localhost:8080/nbextensions/google.colab/files.js": {
              "data": "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",
              "ok": true,
              "headers": [
                [
                  "content-type",
                  "application/javascript"
                ]
              ],
              "status": 200,
              "status_text": ""
            }
          },
          "base_uri": "https://localhost:8080/",
          "height": 74
        }
      },
      "source": [
        "from google.colab import files\n",
        "uploaded = files.upload()"
      ],
      "execution_count": 260,
      "outputs": [
        {
          "output_type": "display_data",
          "data": {
            "text/html": [
              "\n",
              "     <input type=\"file\" id=\"files-13460b4a-a9b1-499d-aabf-a7ff77b01f7d\" name=\"files[]\" multiple disabled />\n",
              "     <output id=\"result-13460b4a-a9b1-499d-aabf-a7ff77b01f7d\">\n",
              "      Upload widget is only available when the cell has been executed in the\n",
              "      current browser session. Please rerun this cell to enable.\n",
              "      </output>\n",
              "      <script src=\"/nbextensions/google.colab/files.js\"></script> "
            ],
            "text/plain": [
              "<IPython.core.display.HTML object>"
            ]
          },
          "metadata": {
            "tags": []
          }
        },
        {
          "output_type": "stream",
          "text": [
            "Saving Train.csv to Train (7).csv\n"
          ],
          "name": "stdout"
        }
      ]
    },
    {
      "cell_type": "code",
      "metadata": {
        "id": "2D5gYSaL_IGK",
        "colab_type": "code",
        "outputId": "9173a9e8-23a3-43a8-b01e-96bf9422c3aa",
        "colab": {
          "base_uri": "https://localhost:8080/",
          "height": 217
        }
      },
      "source": [
        "#Loading The Dataset\n",
        "import io\n",
        "#The command written below is generally used to load .csv format file or .data format file.\n",
        "df = pd.read_csv(io.BytesIO(uploaded['Train.csv']))\n",
        "df.head()\n"
      ],
      "execution_count": 261,
      "outputs": [
        {
          "output_type": "execute_result",
          "data": {
            "text/html": [
              "<div>\n",
              "<style scoped>\n",
              "    .dataframe tbody tr th:only-of-type {\n",
              "        vertical-align: middle;\n",
              "    }\n",
              "\n",
              "    .dataframe tbody tr th {\n",
              "        vertical-align: top;\n",
              "    }\n",
              "\n",
              "    .dataframe thead th {\n",
              "        text-align: right;\n",
              "    }\n",
              "</style>\n",
              "<table border=\"1\" class=\"dataframe\">\n",
              "  <thead>\n",
              "    <tr style=\"text-align: right;\">\n",
              "      <th></th>\n",
              "      <th>feature_0</th>\n",
              "      <th>feature_1</th>\n",
              "      <th>feature_2</th>\n",
              "      <th>feature_3</th>\n",
              "      <th>feature_4</th>\n",
              "      <th>feature_5</th>\n",
              "      <th>feature_6</th>\n",
              "      <th>feature_7</th>\n",
              "      <th>feature_8</th>\n",
              "      <th>feature_9</th>\n",
              "      <th>feature_10</th>\n",
              "      <th>feature_11</th>\n",
              "      <th>feature_12</th>\n",
              "      <th>feature_13</th>\n",
              "      <th>feature_14</th>\n",
              "      <th>feature_15</th>\n",
              "      <th>labels</th>\n",
              "    </tr>\n",
              "  </thead>\n",
              "  <tbody>\n",
              "    <tr>\n",
              "      <th>0</th>\n",
              "      <td>-0.28</td>\n",
              "      <td>-0.42</td>\n",
              "      <td>1.34</td>\n",
              "      <td>-0.01</td>\n",
              "      <td>0.08</td>\n",
              "      <td>1.08</td>\n",
              "      <td>0.18</td>\n",
              "      <td>3</td>\n",
              "      <td>0</td>\n",
              "      <td>1</td>\n",
              "      <td>0</td>\n",
              "      <td>0</td>\n",
              "      <td>0</td>\n",
              "      <td>0</td>\n",
              "      <td>10</td>\n",
              "      <td>2</td>\n",
              "      <td>1</td>\n",
              "    </tr>\n",
              "    <tr>\n",
              "      <th>1</th>\n",
              "      <td>0.85</td>\n",
              "      <td>0.15</td>\n",
              "      <td>0.50</td>\n",
              "      <td>-0.98</td>\n",
              "      <td>-0.57</td>\n",
              "      <td>-0.41</td>\n",
              "      <td>-0.25</td>\n",
              "      <td>4</td>\n",
              "      <td>1</td>\n",
              "      <td>2</td>\n",
              "      <td>0</td>\n",
              "      <td>1</td>\n",
              "      <td>0</td>\n",
              "      <td>0</td>\n",
              "      <td>0</td>\n",
              "      <td>3</td>\n",
              "      <td>0</td>\n",
              "    </tr>\n",
              "    <tr>\n",
              "      <th>2</th>\n",
              "      <td>0.95</td>\n",
              "      <td>-0.17</td>\n",
              "      <td>1.83</td>\n",
              "      <td>-0.70</td>\n",
              "      <td>0.08</td>\n",
              "      <td>-0.41</td>\n",
              "      <td>-0.25</td>\n",
              "      <td>6</td>\n",
              "      <td>1</td>\n",
              "      <td>2</td>\n",
              "      <td>0</td>\n",
              "      <td>0</td>\n",
              "      <td>0</td>\n",
              "      <td>0</td>\n",
              "      <td>5</td>\n",
              "      <td>3</td>\n",
              "      <td>0</td>\n",
              "    </tr>\n",
              "    <tr>\n",
              "      <th>3</th>\n",
              "      <td>0.85</td>\n",
              "      <td>-0.38</td>\n",
              "      <td>0.98</td>\n",
              "      <td>-0.04</td>\n",
              "      <td>-0.57</td>\n",
              "      <td>-0.41</td>\n",
              "      <td>-0.25</td>\n",
              "      <td>4</td>\n",
              "      <td>0</td>\n",
              "      <td>2</td>\n",
              "      <td>0</td>\n",
              "      <td>1</td>\n",
              "      <td>0</td>\n",
              "      <td>0</td>\n",
              "      <td>5</td>\n",
              "      <td>3</td>\n",
              "      <td>0</td>\n",
              "    </tr>\n",
              "    <tr>\n",
              "      <th>4</th>\n",
              "      <td>1.32</td>\n",
              "      <td>1.59</td>\n",
              "      <td>-1.18</td>\n",
              "      <td>-0.10</td>\n",
              "      <td>-0.25</td>\n",
              "      <td>-0.41</td>\n",
              "      <td>-0.25</td>\n",
              "      <td>0</td>\n",
              "      <td>1</td>\n",
              "      <td>1</td>\n",
              "      <td>0</td>\n",
              "      <td>0</td>\n",
              "      <td>0</td>\n",
              "      <td>0</td>\n",
              "      <td>8</td>\n",
              "      <td>3</td>\n",
              "      <td>0</td>\n",
              "    </tr>\n",
              "  </tbody>\n",
              "</table>\n",
              "</div>"
            ],
            "text/plain": [
              "   feature_0  feature_1  feature_2  feature_3  feature_4  feature_5  \\\n",
              "0      -0.28      -0.42       1.34      -0.01       0.08       1.08   \n",
              "1       0.85       0.15       0.50      -0.98      -0.57      -0.41   \n",
              "2       0.95      -0.17       1.83      -0.70       0.08      -0.41   \n",
              "3       0.85      -0.38       0.98      -0.04      -0.57      -0.41   \n",
              "4       1.32       1.59      -1.18      -0.10      -0.25      -0.41   \n",
              "\n",
              "   feature_6  feature_7  feature_8  feature_9  feature_10  feature_11  \\\n",
              "0       0.18          3          0          1           0           0   \n",
              "1      -0.25          4          1          2           0           1   \n",
              "2      -0.25          6          1          2           0           0   \n",
              "3      -0.25          4          0          2           0           1   \n",
              "4      -0.25          0          1          1           0           0   \n",
              "\n",
              "   feature_12  feature_13  feature_14  feature_15  labels  \n",
              "0           0           0          10           2       1  \n",
              "1           0           0           0           3       0  \n",
              "2           0           0           5           3       0  \n",
              "3           0           0           5           3       0  \n",
              "4           0           0           8           3       0  "
            ]
          },
          "metadata": {
            "tags": []
          },
          "execution_count": 261
        }
      ]
    },
    {
      "cell_type": "code",
      "metadata": {
        "id": "_S03y0Z3gNRG",
        "colab_type": "code",
        "colab": {
          "base_uri": "https://localhost:8080/",
          "height": 307
        },
        "outputId": "e9f87983-1669-47e3-eec6-6406b6a870ca"
      },
      "source": [
        "df.describe()"
      ],
      "execution_count": 262,
      "outputs": [
        {
          "output_type": "execute_result",
          "data": {
            "text/html": [
              "<div>\n",
              "<style scoped>\n",
              "    .dataframe tbody tr th:only-of-type {\n",
              "        vertical-align: middle;\n",
              "    }\n",
              "\n",
              "    .dataframe tbody tr th {\n",
              "        vertical-align: top;\n",
              "    }\n",
              "\n",
              "    .dataframe thead th {\n",
              "        text-align: right;\n",
              "    }\n",
              "</style>\n",
              "<table border=\"1\" class=\"dataframe\">\n",
              "  <thead>\n",
              "    <tr style=\"text-align: right;\">\n",
              "      <th></th>\n",
              "      <th>feature_0</th>\n",
              "      <th>feature_1</th>\n",
              "      <th>feature_2</th>\n",
              "      <th>feature_3</th>\n",
              "      <th>feature_4</th>\n",
              "      <th>feature_5</th>\n",
              "      <th>feature_6</th>\n",
              "      <th>feature_7</th>\n",
              "      <th>feature_8</th>\n",
              "      <th>feature_9</th>\n",
              "      <th>feature_10</th>\n",
              "      <th>feature_11</th>\n",
              "      <th>feature_12</th>\n",
              "      <th>feature_13</th>\n",
              "      <th>feature_14</th>\n",
              "      <th>feature_15</th>\n",
              "      <th>labels</th>\n",
              "    </tr>\n",
              "  </thead>\n",
              "  <tbody>\n",
              "    <tr>\n",
              "      <th>count</th>\n",
              "      <td>33908.00</td>\n",
              "      <td>33908.00</td>\n",
              "      <td>33908.00</td>\n",
              "      <td>33908.00</td>\n",
              "      <td>33908.00</td>\n",
              "      <td>33908.00</td>\n",
              "      <td>33908.00</td>\n",
              "      <td>33908.00</td>\n",
              "      <td>33908.00</td>\n",
              "      <td>33908.00</td>\n",
              "      <td>33908.00</td>\n",
              "      <td>33908.00</td>\n",
              "      <td>33908.00</td>\n",
              "      <td>33908.00</td>\n",
              "      <td>33908.00</td>\n",
              "      <td>33908.00</td>\n",
              "      <td>33908.00</td>\n",
              "    </tr>\n",
              "    <tr>\n",
              "      <th>mean</th>\n",
              "      <td>-0.00</td>\n",
              "      <td>0.00</td>\n",
              "      <td>-0.00</td>\n",
              "      <td>-0.00</td>\n",
              "      <td>-0.00</td>\n",
              "      <td>-0.00</td>\n",
              "      <td>-0.01</td>\n",
              "      <td>4.34</td>\n",
              "      <td>1.17</td>\n",
              "      <td>1.23</td>\n",
              "      <td>0.02</td>\n",
              "      <td>0.56</td>\n",
              "      <td>0.16</td>\n",
              "      <td>0.64</td>\n",
              "      <td>5.52</td>\n",
              "      <td>2.56</td>\n",
              "      <td>0.12</td>\n",
              "    </tr>\n",
              "    <tr>\n",
              "      <th>std</th>\n",
              "      <td>1.00</td>\n",
              "      <td>1.01</td>\n",
              "      <td>1.00</td>\n",
              "      <td>1.00</td>\n",
              "      <td>1.00</td>\n",
              "      <td>0.99</td>\n",
              "      <td>0.80</td>\n",
              "      <td>3.27</td>\n",
              "      <td>0.61</td>\n",
              "      <td>0.75</td>\n",
              "      <td>0.13</td>\n",
              "      <td>0.50</td>\n",
              "      <td>0.37</td>\n",
              "      <td>0.90</td>\n",
              "      <td>3.00</td>\n",
              "      <td>0.99</td>\n",
              "      <td>0.32</td>\n",
              "    </tr>\n",
              "    <tr>\n",
              "      <th>min</th>\n",
              "      <td>-2.16</td>\n",
              "      <td>-3.08</td>\n",
              "      <td>-1.78</td>\n",
              "      <td>-1.00</td>\n",
              "      <td>-0.57</td>\n",
              "      <td>-0.41</td>\n",
              "      <td>-0.25</td>\n",
              "      <td>0.00</td>\n",
              "      <td>0.00</td>\n",
              "      <td>0.00</td>\n",
              "      <td>0.00</td>\n",
              "      <td>0.00</td>\n",
              "      <td>0.00</td>\n",
              "      <td>0.00</td>\n",
              "      <td>0.00</td>\n",
              "      <td>0.00</td>\n",
              "      <td>0.00</td>\n",
              "    </tr>\n",
              "    <tr>\n",
              "      <th>25%</th>\n",
              "      <td>-0.75</td>\n",
              "      <td>-0.42</td>\n",
              "      <td>-0.94</td>\n",
              "      <td>-0.60</td>\n",
              "      <td>-0.57</td>\n",
              "      <td>-0.41</td>\n",
              "      <td>-0.25</td>\n",
              "      <td>1.00</td>\n",
              "      <td>1.00</td>\n",
              "      <td>1.00</td>\n",
              "      <td>0.00</td>\n",
              "      <td>0.00</td>\n",
              "      <td>0.00</td>\n",
              "      <td>0.00</td>\n",
              "      <td>3.00</td>\n",
              "      <td>3.00</td>\n",
              "      <td>0.00</td>\n",
              "    </tr>\n",
              "    <tr>\n",
              "      <th>50%</th>\n",
              "      <td>-0.18</td>\n",
              "      <td>-0.30</td>\n",
              "      <td>0.02</td>\n",
              "      <td>-0.30</td>\n",
              "      <td>-0.25</td>\n",
              "      <td>-0.41</td>\n",
              "      <td>-0.25</td>\n",
              "      <td>4.00</td>\n",
              "      <td>1.00</td>\n",
              "      <td>1.00</td>\n",
              "      <td>0.00</td>\n",
              "      <td>1.00</td>\n",
              "      <td>0.00</td>\n",
              "      <td>0.00</td>\n",
              "      <td>6.00</td>\n",
              "      <td>3.00</td>\n",
              "      <td>0.00</td>\n",
              "    </tr>\n",
              "    <tr>\n",
              "      <th>75%</th>\n",
              "      <td>0.67</td>\n",
              "      <td>0.02</td>\n",
              "      <td>0.62</td>\n",
              "      <td>0.24</td>\n",
              "      <td>0.08</td>\n",
              "      <td>-0.41</td>\n",
              "      <td>-0.25</td>\n",
              "      <td>7.00</td>\n",
              "      <td>2.00</td>\n",
              "      <td>2.00</td>\n",
              "      <td>0.00</td>\n",
              "      <td>1.00</td>\n",
              "      <td>0.00</td>\n",
              "      <td>2.00</td>\n",
              "      <td>8.00</td>\n",
              "      <td>3.00</td>\n",
              "      <td>0.00</td>\n",
              "    </tr>\n",
              "    <tr>\n",
              "      <th>max</th>\n",
              "      <td>5.09</td>\n",
              "      <td>33.09</td>\n",
              "      <td>1.83</td>\n",
              "      <td>18.09</td>\n",
              "      <td>19.44</td>\n",
              "      <td>8.13</td>\n",
              "      <td>23.63</td>\n",
              "      <td>11.00</td>\n",
              "      <td>2.00</td>\n",
              "      <td>3.00</td>\n",
              "      <td>1.00</td>\n",
              "      <td>1.00</td>\n",
              "      <td>1.00</td>\n",
              "      <td>2.00</td>\n",
              "      <td>11.00</td>\n",
              "      <td>3.00</td>\n",
              "      <td>1.00</td>\n",
              "    </tr>\n",
              "  </tbody>\n",
              "</table>\n",
              "</div>"
            ],
            "text/plain": [
              "       feature_0  feature_1  feature_2  feature_3  feature_4  feature_5  \\\n",
              "count   33908.00   33908.00   33908.00   33908.00   33908.00   33908.00   \n",
              "mean       -0.00       0.00      -0.00      -0.00      -0.00      -0.00   \n",
              "std         1.00       1.01       1.00       1.00       1.00       0.99   \n",
              "min        -2.16      -3.08      -1.78      -1.00      -0.57      -0.41   \n",
              "25%        -0.75      -0.42      -0.94      -0.60      -0.57      -0.41   \n",
              "50%        -0.18      -0.30       0.02      -0.30      -0.25      -0.41   \n",
              "75%         0.67       0.02       0.62       0.24       0.08      -0.41   \n",
              "max         5.09      33.09       1.83      18.09      19.44       8.13   \n",
              "\n",
              "       feature_6  feature_7  feature_8  feature_9  feature_10  feature_11  \\\n",
              "count   33908.00   33908.00   33908.00   33908.00    33908.00    33908.00   \n",
              "mean       -0.01       4.34       1.17       1.23        0.02        0.56   \n",
              "std         0.80       3.27       0.61       0.75        0.13        0.50   \n",
              "min        -0.25       0.00       0.00       0.00        0.00        0.00   \n",
              "25%        -0.25       1.00       1.00       1.00        0.00        0.00   \n",
              "50%        -0.25       4.00       1.00       1.00        0.00        1.00   \n",
              "75%        -0.25       7.00       2.00       2.00        0.00        1.00   \n",
              "max        23.63      11.00       2.00       3.00        1.00        1.00   \n",
              "\n",
              "       feature_12  feature_13  feature_14  feature_15   labels  \n",
              "count    33908.00    33908.00    33908.00    33908.00 33908.00  \n",
              "mean         0.16        0.64        5.52        2.56     0.12  \n",
              "std          0.37        0.90        3.00        0.99     0.32  \n",
              "min          0.00        0.00        0.00        0.00     0.00  \n",
              "25%          0.00        0.00        3.00        3.00     0.00  \n",
              "50%          0.00        0.00        6.00        3.00     0.00  \n",
              "75%          0.00        2.00        8.00        3.00     0.00  \n",
              "max          1.00        2.00       11.00        3.00     1.00  "
            ]
          },
          "metadata": {
            "tags": []
          },
          "execution_count": 262
        }
      ]
    },
    {
      "cell_type": "code",
      "metadata": {
        "id": "ytYrzmAKif9N",
        "colab_type": "code",
        "colab": {}
      },
      "source": [
        "\n"
      ],
      "execution_count": 0,
      "outputs": []
    },
    {
      "cell_type": "code",
      "metadata": {
        "id": "mCJES6g2jnfE",
        "colab_type": "code",
        "colab": {}
      },
      "source": [
        ""
      ],
      "execution_count": 0,
      "outputs": []
    },
    {
      "cell_type": "code",
      "metadata": {
        "id": "yMfM1m18kTO2",
        "colab_type": "code",
        "colab": {}
      },
      "source": [
        ""
      ],
      "execution_count": 0,
      "outputs": []
    },
    {
      "cell_type": "markdown",
      "metadata": {
        "id": "Q5lDoM7jOQcb",
        "colab_type": "text"
      },
      "source": [
        "## **Applying Classification ALgorithm without treating imbalnce**"
      ]
    },
    {
      "cell_type": "code",
      "metadata": {
        "id": "iwI8K5lcN830",
        "colab_type": "code",
        "colab": {
          "base_uri": "https://localhost:8080/",
          "height": 1000
        },
        "outputId": "b94a6443-1966-485e-db2d-f10a22320d43"
      },
      "source": [
        "from sklearn.ensemble import GradientBoostingClassifier ,RandomForestClassifier ,GradientBoostingClassifier\n",
        "from sklearn.metrics import f1_score\n",
        "#Applying Classification algorithms without treating imbalance\n",
        "from sklearn.model_selection import train_test_split\n",
        "\n",
        "def run_model(predictors,target, model):\n",
        "    '''\n",
        "    Performs model training and tests using ROC-AUC \n",
        "    returns AUC score\n",
        "    '''\n",
        "    x_train,x_val,y_train,y_val = train_test_split(predictors,target,test_size=0.3,random_state=9)\n",
        "    model.fit(x_train, y_train)\n",
        "    y_scores = model.predict(x_val)\n",
        "    auc = roc_auc_score(y_val, y_scores)\n",
        "    print('Classification Report:')\n",
        "    print(classification_report(y_val,y_scores))\n",
        "    false_positive_rate, true_positive_rate, thresholds = roc_curve(y_val, y_scores)\n",
        "    print('ROC_AUC_SCORE is',roc_auc_score(y_val, y_scores))\n",
        "    \n",
        "    #fpr, tpr, _ = roc_curve(y_test, predictions[:,1])\n",
        "    \n",
        "    plt.plot(false_positive_rate, true_positive_rate)\n",
        "    plt.xlabel('FPR')\n",
        "    plt.ylabel('TPR')\n",
        "    plt.title('ROC curve')\n",
        "    plt.show()\n",
        "\n",
        "    F1_score=f1_score(y_val, y_scores)\n",
        "    print('F1 SCORE:',F1_score)\n",
        "    return auc\n",
        "\n",
        "# Predictors\n",
        "X = df.iloc[:,:-1]\n",
        "\n",
        "# Target\n",
        "y = df.iloc[:,-1]\n",
        "\n",
        "# Choosing the models. If you want to specify additional models, kindly specify them as a key-value pair as shown below.\n",
        "models = {'Logistic Regression':LogisticRegression,'Decision Tree':DecisionTreeClassifier,'Random Forest': RandomForestClassifier,'XGBoost':XGBClassifier,'Gradient Boosting':GradientBoostingClassifier,'Lightgbm Classifier':LGBMClassifier}\n",
        "\n",
        "for i in models.items():\n",
        "    # run model\n",
        "    model = i[1]()\n",
        "    auc = run_model(X, y, model) # train and returns AUC test score\n",
        "    print('AUC Score = %.2f' %(auc*100) +' %\\nOn Model - \\n'+str(i[0]))\n",
        "    print('===='*20)"
      ],
      "execution_count": 263,
      "outputs": [
        {
          "output_type": "stream",
          "text": [
            "Classification Report:\n",
            "              precision    recall  f1-score   support\n",
            "\n",
            "           0       0.91      0.98      0.94      8980\n",
            "           1       0.62      0.23      0.33      1193\n",
            "\n",
            "    accuracy                           0.89     10173\n",
            "   macro avg       0.76      0.60      0.64     10173\n",
            "weighted avg       0.87      0.89      0.87     10173\n",
            "\n",
            "ROC_AUC_SCORE is 0.6048112411487202\n"
          ],
          "name": "stdout"
        },
        {
          "output_type": "display_data",
          "data": {
            "image/png": "[encoded data removed]",
            "text/plain": [
              "<Figure size 432x288 with 1 Axes>"
            ]
          },
          "metadata": {
            "tags": []
          }
        },
        {
          "output_type": "stream",
          "text": [
            "F1 SCORE: 0.3337423312883436\n",
            "AUC Score = 60.48 %\n",
            "On Model - \n",
            "Logistic Regression\n",
            "================================================================================\n",
            "Classification Report:\n",
            "              precision    recall  f1-score   support\n",
            "\n",
            "           0       0.93      0.92      0.93      8980\n",
            "           1       0.45      0.47      0.46      1193\n",
            "\n",
            "    accuracy                           0.87     10173\n",
            "   macro avg       0.69      0.70      0.69     10173\n",
            "weighted avg       0.87      0.87      0.87     10173\n",
            "\n",
            "ROC_AUC_SCORE is 0.6960579717991177\n"
          ],
          "name": "stdout"
        },
        {
          "output_type": "display_data",
          "data": {
            "image/png": "[encoded data removed]",
            "text/plain": [
              "<Figure size 432x288 with 1 Axes>"
            ]
          },
          "metadata": {
            "tags": []
          }
        },
        {
          "output_type": "stream",
          "text": [
            "F1 SCORE: 0.45925925925925926\n",
            "AUC Score = 69.61 %\n",
            "On Model - \n",
            "Decision Tree\n",
            "================================================================================\n",
            "Classification Report:\n",
            "              precision    recall  f1-score   support\n",
            "\n",
            "           0       0.92      0.97      0.95      8980\n",
            "           1       0.66      0.40      0.50      1193\n",
            "\n",
            "    accuracy                           0.91     10173\n",
            "   macro avg       0.79      0.69      0.72     10173\n",
            "weighted avg       0.89      0.91      0.90     10173\n",
            "\n",
            "ROC_AUC_SCORE is 0.6882883076296958\n"
          ],
          "name": "stdout"
        },
        {
          "output_type": "display_data",
          "data": {
            "image/png": "[encoded data removed]",
            "text/plain": [
              "<Figure size 432x288 with 1 Axes>"
            ]
          },
          "metadata": {
            "tags": []
          }
        },
        {
          "output_type": "stream",
          "text": [
            "F1 SCORE: 0.5005181347150259\n",
            "AUC Score = 68.83 %\n",
            "On Model - \n",
            "Random Forest\n",
            "================================================================================\n",
            "Classification Report:\n",
            "              precision    recall  f1-score   support\n",
            "\n",
            "           0       0.92      0.98      0.95      8980\n",
            "           1       0.67      0.36      0.47      1193\n",
            "\n",
            "    accuracy                           0.90     10173\n",
            "   macro avg       0.79      0.67      0.71     10173\n",
            "weighted avg       0.89      0.90      0.89     10173\n",
            "\n",
            "ROC_AUC_SCORE is 0.6678834590045496\n"
          ],
          "name": "stdout"
        },
        {
          "output_type": "display_data",
          "data": {
            "image/png": "[encoded data removed]",
            "text/plain": [
              "<Figure size 432x288 with 1 Axes>"
            ]
          },
          "metadata": {
            "tags": []
          }
        },
        {
          "output_type": "stream",
          "text": [
            "F1 SCORE: 0.4673202614379085\n",
            "AUC Score = 66.79 %\n",
            "On Model - \n",
            "XGBoost\n",
            "================================================================================\n",
            "Classification Report:\n",
            "              precision    recall  f1-score   support\n",
            "\n",
            "           0       0.92      0.97      0.95      8980\n",
            "           1       0.65      0.39      0.48      1193\n",
            "\n",
            "    accuracy                           0.90     10173\n",
            "   macro avg       0.79      0.68      0.72     10173\n",
            "weighted avg       0.89      0.90      0.89     10173\n",
            "\n",
            "ROC_AUC_SCORE is 0.6789271399421646\n"
          ],
          "name": "stdout"
        },
        {
          "output_type": "display_data",
          "data": {
            "image/png": "[encoded data removed]",
            "text/plain": [
              "<Figure size 432x288 with 1 Axes>"
            ]
          },
          "metadata": {
            "tags": []
          }
        },
        {
          "output_type": "stream",
          "text": [
            "F1 SCORE: 0.4837013669821241\n",
            "AUC Score = 67.89 %\n",
            "On Model - \n",
            "Gradient Boosting\n",
            "================================================================================\n",
            "Classification Report:\n",
            "              precision    recall  f1-score   support\n",
            "\n",
            "           0       0.93      0.97      0.95      8980\n",
            "           1       0.65      0.46      0.54      1193\n",
            "\n",
            "    accuracy                           0.91     10173\n",
            "   macro avg       0.79      0.71      0.74     10173\n",
            "weighted avg       0.90      0.91      0.90     10173\n",
            "\n",
            "ROC_AUC_SCORE is 0.7141709620148714\n"
          ],
          "name": "stdout"
        },
        {
          "output_type": "display_data",
          "data": {
            "image/png": "[encoded data removed]",
            "text/plain": [
              "<Figure size 432x288 with 1 Axes>"
            ]
          },
          "metadata": {
            "tags": []
          }
        },
        {
          "output_type": "stream",
          "text": [
            "F1 SCORE: 0.5388753056234719\n",
            "AUC Score = 71.42 %\n",
            "On Model - \n",
            "Lightgbm Classifier\n",
            "================================================================================\n"
          ],
          "name": "stdout"
        }
      ]
    },
    {
      "cell_type": "code",
      "metadata": {
        "id": "XGBK5qwcPL9s",
        "colab_type": "code",
        "colab": {
          "base_uri": "https://localhost:8080/",
          "height": 336
        },
        "outputId": "9e5f0805-e6a8-4b26-9106-817d679947d7"
      },
      "source": [
        "df.nunique()"
      ],
      "execution_count": 237,
      "outputs": [
        {
          "output_type": "execute_result",
          "data": {
            "text/plain": [
              "feature_0       77\n",
              "feature_1     6434\n",
              "feature_2       31\n",
              "feature_3     1482\n",
              "feature_4       47\n",
              "feature_5      517\n",
              "feature_6       36\n",
              "feature_7       12\n",
              "feature_8        3\n",
              "feature_9        4\n",
              "feature_10       2\n",
              "feature_11       2\n",
              "feature_12       2\n",
              "feature_13       3\n",
              "feature_14      12\n",
              "feature_15       4\n",
              "labels           2\n",
              "dtype: int64"
            ]
          },
          "metadata": {
            "tags": []
          },
          "execution_count": 237
        }
      ]
    },
    {
      "cell_type": "code",
      "metadata": {
        "id": "NUSzVRlUkxJI",
        "colab_type": "code",
        "colab": {
          "base_uri": "https://localhost:8080/",
          "height": 307
        },
        "outputId": "877ab444-2af0-47e4-bbd3-67f74edbd220"
      },
      "source": [
        "df.describe()"
      ],
      "execution_count": 241,
      "outputs": [
        {
          "output_type": "execute_result",
          "data": {
            "text/html": [
              "<div>\n",
              "<style scoped>\n",
              "    .dataframe tbody tr th:only-of-type {\n",
              "        vertical-align: middle;\n",
              "    }\n",
              "\n",
              "    .dataframe tbody tr th {\n",
              "        vertical-align: top;\n",
              "    }\n",
              "\n",
              "    .dataframe thead th {\n",
              "        text-align: right;\n",
              "    }\n",
              "</style>\n",
              "<table border=\"1\" class=\"dataframe\">\n",
              "  <thead>\n",
              "    <tr style=\"text-align: right;\">\n",
              "      <th></th>\n",
              "      <th>feature_0</th>\n",
              "      <th>feature_1</th>\n",
              "      <th>feature_2</th>\n",
              "      <th>feature_3</th>\n",
              "      <th>feature_4</th>\n",
              "      <th>feature_5</th>\n",
              "      <th>feature_6</th>\n",
              "      <th>feature_7</th>\n",
              "      <th>feature_8</th>\n",
              "      <th>feature_9</th>\n",
              "      <th>feature_10</th>\n",
              "      <th>feature_11</th>\n",
              "      <th>feature_12</th>\n",
              "      <th>feature_13</th>\n",
              "      <th>feature_14</th>\n",
              "      <th>feature_15</th>\n",
              "      <th>labels</th>\n",
              "    </tr>\n",
              "  </thead>\n",
              "  <tbody>\n",
              "    <tr>\n",
              "      <th>count</th>\n",
              "      <td>33908.00</td>\n",
              "      <td>33908.00</td>\n",
              "      <td>33908.00</td>\n",
              "      <td>33908.00</td>\n",
              "      <td>33908.00</td>\n",
              "      <td>33908.00</td>\n",
              "      <td>33908.00</td>\n",
              "      <td>33908.00</td>\n",
              "      <td>33908.00</td>\n",
              "      <td>33908.00</td>\n",
              "      <td>33908.00</td>\n",
              "      <td>33908.00</td>\n",
              "      <td>33908.00</td>\n",
              "      <td>33908.00</td>\n",
              "      <td>33908.00</td>\n",
              "      <td>33908.00</td>\n",
              "      <td>33908.00</td>\n",
              "    </tr>\n",
              "    <tr>\n",
              "      <th>mean</th>\n",
              "      <td>0.30</td>\n",
              "      <td>0.09</td>\n",
              "      <td>0.49</td>\n",
              "      <td>0.05</td>\n",
              "      <td>0.03</td>\n",
              "      <td>-0.00</td>\n",
              "      <td>-0.01</td>\n",
              "      <td>4.34</td>\n",
              "      <td>1.17</td>\n",
              "      <td>1.23</td>\n",
              "      <td>0.02</td>\n",
              "      <td>0.56</td>\n",
              "      <td>0.16</td>\n",
              "      <td>0.64</td>\n",
              "      <td>5.52</td>\n",
              "      <td>2.56</td>\n",
              "      <td>0.12</td>\n",
              "    </tr>\n",
              "    <tr>\n",
              "      <th>std</th>\n",
              "      <td>0.14</td>\n",
              "      <td>0.03</td>\n",
              "      <td>0.28</td>\n",
              "      <td>0.05</td>\n",
              "      <td>0.05</td>\n",
              "      <td>0.99</td>\n",
              "      <td>0.80</td>\n",
              "      <td>3.27</td>\n",
              "      <td>0.61</td>\n",
              "      <td>0.75</td>\n",
              "      <td>0.13</td>\n",
              "      <td>0.50</td>\n",
              "      <td>0.37</td>\n",
              "      <td>0.90</td>\n",
              "      <td>3.00</td>\n",
              "      <td>0.99</td>\n",
              "      <td>0.32</td>\n",
              "    </tr>\n",
              "    <tr>\n",
              "      <th>min</th>\n",
              "      <td>0.00</td>\n",
              "      <td>0.00</td>\n",
              "      <td>0.00</td>\n",
              "      <td>0.00</td>\n",
              "      <td>0.00</td>\n",
              "      <td>-0.41</td>\n",
              "      <td>-0.25</td>\n",
              "      <td>0.00</td>\n",
              "      <td>0.00</td>\n",
              "      <td>0.00</td>\n",
              "      <td>0.00</td>\n",
              "      <td>0.00</td>\n",
              "      <td>0.00</td>\n",
              "      <td>0.00</td>\n",
              "      <td>0.00</td>\n",
              "      <td>0.00</td>\n",
              "      <td>0.00</td>\n",
              "    </tr>\n",
              "    <tr>\n",
              "      <th>25%</th>\n",
              "      <td>0.19</td>\n",
              "      <td>0.07</td>\n",
              "      <td>0.23</td>\n",
              "      <td>0.02</td>\n",
              "      <td>0.00</td>\n",
              "      <td>-0.41</td>\n",
              "      <td>-0.25</td>\n",
              "      <td>1.00</td>\n",
              "      <td>1.00</td>\n",
              "      <td>1.00</td>\n",
              "      <td>0.00</td>\n",
              "      <td>0.00</td>\n",
              "      <td>0.00</td>\n",
              "      <td>0.00</td>\n",
              "      <td>3.00</td>\n",
              "      <td>3.00</td>\n",
              "      <td>0.00</td>\n",
              "    </tr>\n",
              "    <tr>\n",
              "      <th>50%</th>\n",
              "      <td>0.27</td>\n",
              "      <td>0.08</td>\n",
              "      <td>0.50</td>\n",
              "      <td>0.04</td>\n",
              "      <td>0.02</td>\n",
              "      <td>-0.41</td>\n",
              "      <td>-0.25</td>\n",
              "      <td>4.00</td>\n",
              "      <td>1.00</td>\n",
              "      <td>1.00</td>\n",
              "      <td>0.00</td>\n",
              "      <td>1.00</td>\n",
              "      <td>0.00</td>\n",
              "      <td>0.00</td>\n",
              "      <td>6.00</td>\n",
              "      <td>3.00</td>\n",
              "      <td>0.00</td>\n",
              "    </tr>\n",
              "    <tr>\n",
              "      <th>75%</th>\n",
              "      <td>0.39</td>\n",
              "      <td>0.09</td>\n",
              "      <td>0.67</td>\n",
              "      <td>0.06</td>\n",
              "      <td>0.03</td>\n",
              "      <td>-0.41</td>\n",
              "      <td>-0.25</td>\n",
              "      <td>7.00</td>\n",
              "      <td>2.00</td>\n",
              "      <td>2.00</td>\n",
              "      <td>0.00</td>\n",
              "      <td>1.00</td>\n",
              "      <td>0.00</td>\n",
              "      <td>2.00</td>\n",
              "      <td>8.00</td>\n",
              "      <td>3.00</td>\n",
              "      <td>0.00</td>\n",
              "    </tr>\n",
              "    <tr>\n",
              "      <th>max</th>\n",
              "      <td>1.00</td>\n",
              "      <td>1.00</td>\n",
              "      <td>1.00</td>\n",
              "      <td>1.00</td>\n",
              "      <td>1.00</td>\n",
              "      <td>8.13</td>\n",
              "      <td>23.63</td>\n",
              "      <td>11.00</td>\n",
              "      <td>2.00</td>\n",
              "      <td>3.00</td>\n",
              "      <td>1.00</td>\n",
              "      <td>1.00</td>\n",
              "      <td>1.00</td>\n",
              "      <td>2.00</td>\n",
              "      <td>11.00</td>\n",
              "      <td>3.00</td>\n",
              "      <td>1.00</td>\n",
              "    </tr>\n",
              "  </tbody>\n",
              "</table>\n",
              "</div>"
            ],
            "text/plain": [
              "       feature_0  feature_1  feature_2  feature_3  feature_4  feature_5  \\\n",
              "count   33908.00   33908.00   33908.00   33908.00   33908.00   33908.00   \n",
              "mean        0.30       0.09       0.49       0.05       0.03      -0.00   \n",
              "std         0.14       0.03       0.28       0.05       0.05       0.99   \n",
              "min         0.00       0.00       0.00       0.00       0.00      -0.41   \n",
              "25%         0.19       0.07       0.23       0.02       0.00      -0.41   \n",
              "50%         0.27       0.08       0.50       0.04       0.02      -0.41   \n",
              "75%         0.39       0.09       0.67       0.06       0.03      -0.41   \n",
              "max         1.00       1.00       1.00       1.00       1.00       8.13   \n",
              "\n",
              "       feature_6  feature_7  feature_8  feature_9  feature_10  feature_11  \\\n",
              "count   33908.00   33908.00   33908.00   33908.00    33908.00    33908.00   \n",
              "mean       -0.01       4.34       1.17       1.23        0.02        0.56   \n",
              "std         0.80       3.27       0.61       0.75        0.13        0.50   \n",
              "min        -0.25       0.00       0.00       0.00        0.00        0.00   \n",
              "25%        -0.25       1.00       1.00       1.00        0.00        0.00   \n",
              "50%        -0.25       4.00       1.00       1.00        0.00        1.00   \n",
              "75%        -0.25       7.00       2.00       2.00        0.00        1.00   \n",
              "max        23.63      11.00       2.00       3.00        1.00        1.00   \n",
              "\n",
              "       feature_12  feature_13  feature_14  feature_15   labels  \n",
              "count    33908.00    33908.00    33908.00    33908.00 33908.00  \n",
              "mean         0.16        0.64        5.52        2.56     0.12  \n",
              "std          0.37        0.90        3.00        0.99     0.32  \n",
              "min          0.00        0.00        0.00        0.00     0.00  \n",
              "25%          0.00        0.00        3.00        3.00     0.00  \n",
              "50%          0.00        0.00        6.00        3.00     0.00  \n",
              "75%          0.00        2.00        8.00        3.00     0.00  \n",
              "max          1.00        2.00       11.00        3.00     1.00  "
            ]
          },
          "metadata": {
            "tags": []
          },
          "execution_count": 241
        }
      ]
    },
    {
      "cell_type": "code",
      "metadata": {
        "id": "iU4BFZ8APR9l",
        "colab_type": "code",
        "colab": {}
      },
      "source": [
        "#df1=pd.get_dummies(df,columns=['feature_8','feature_9','feature_10','feature_11','feature_12','feature_13','feature_15'])\n",
        "#df1"
      ],
      "execution_count": 0,
      "outputs": []
    },
    {
      "cell_type": "code",
      "metadata": {
        "id": "ywZ6F64Q6zHt",
        "colab_type": "code",
        "outputId": "baf905ec-fcf3-465f-b4a6-4afee810000c",
        "colab": {
          "base_uri": "https://localhost:8080/",
          "height": 552
        }
      },
      "source": [
        "#lgbm with Smote\n",
        "from imblearn.over_sampling import SMOTE\n",
        "from sklearn.metrics import f1_score\n",
        "X1=df.drop('labels',1)\n",
        "y1=df['labels']\n",
        "lgb_model=LGBMClassifier(boosting_type='gbdt',n_estimators=100,random_state=18)\n",
        "smote = SMOTE(ratio='minority')\n",
        "x_train,x_test,y_train,y_test= train_test_split(X1,y1,test_size=0.2,random_state=18)\n",
        "x_train_sm,y_train_sm=smote.fit_sample(x_train,y_train)\n",
        "lgb_model.fit(x_train_sm,y_train_sm)\n",
        "y_pred=lgb_model.predict(x_test)\n",
        "\n",
        "from sklearn.metrics import confusion_matrix\n",
        "cm_dtc = confusion_matrix(y_test,y_pred)\n",
        "sns.heatmap(cm_dtc,annot=True,cmap=\"Blues\",fmt=\"d\",cbar=False, annot_kws={\"size\": 24})\n",
        "\n",
        "class_report=classification_report(y_test,y_pred)\n",
        "print(class_report)\n",
        "F1_score=f1_score(y_test, y_pred)\n",
        "print('F1 SCORE:',F1_score)"
      ],
      "execution_count": 264,
      "outputs": [
        {
          "output_type": "execute_result",
          "data": {
            "text/plain": [
              "LGBMClassifier(boosting_type='gbdt', class_weight=None, colsample_bytree=1.0,\n",
              "               importance_type='split', learning_rate=0.1, max_depth=-1,\n",
              "               min_child_samples=20, min_child_weight=0.001, min_split_gain=0.0,\n",
              "               n_estimators=100, n_jobs=-1, num_leaves=31, objective=None,\n",
              "               random_state=18, reg_alpha=0.0, reg_lambda=0.0, silent=True,\n",
              "               subsample=1.0, subsample_for_bin=200000, subsample_freq=0)"
            ]
          },
          "metadata": {
            "tags": []
          },
          "execution_count": 264
        },
        {
          "output_type": "execute_result",
          "data": {
            "text/plain": [
              "<matplotlib.axes._subplots.AxesSubplot at 0x7fe1f61fd400>"
            ]
          },
          "metadata": {
            "tags": []
          },
          "execution_count": 264
        },
        {
          "output_type": "stream",
          "text": [
            "              precision    recall  f1-score   support\n",
            "\n",
            "           0       0.95      0.94      0.94      5998\n",
            "           1       0.57      0.58      0.58       784\n",
            "\n",
            "    accuracy                           0.90      6782\n",
            "   macro avg       0.76      0.76      0.76      6782\n",
            "weighted avg       0.90      0.90      0.90      6782\n",
            "\n",
            "F1 SCORE: 0.5772151898734177\n"
          ],
          "name": "stdout"
        },
        {
          "output_type": "display_data",
          "data": {
            "image/png": "[encoded data removed]",
            "text/plain": [
              "<Figure size 432x288 with 1 Axes>"
            ]
          },
          "metadata": {
            "tags": []
          }
        }
      ]
    },
    {
      "cell_type": "code",
      "metadata": {
        "id": "pRZEQZB4A24d",
        "colab_type": "code",
        "colab": {
          "base_uri": "https://localhost:8080/",
          "height": 765
        },
        "outputId": "b45046ba-7f23-402e-b791-d7688b944b90"
      },
      "source": [
        "#Bagging for lgbm\n",
        "from sklearn.ensemble import BaggingClassifier\n",
        "X3=df.drop('labels',1)\n",
        "y3=df['labels']\n",
        "bagging_clf=BaggingClassifier(lgb_model,random_state=9)\n",
        "\n",
        "#___________________________________________________________________________________________________\n",
        "x_train,x_test,y_train,y_test= train_test_split(X3,y3,test_size=0.2,random_state=18)\n",
        "smote = SMOTE(ratio='minority')\n",
        "x_train_sm1,y_train_sm1=smote.fit_sample(x_train,y_train)\n",
        "bagging_clf.fit(x_train_sm1,y_train_sm1)\n",
        "y_pred_bg=bagging_clf.predict(x_test)\n",
        "class_report=classification_report(y_test,y_pred_bg)\n",
        "print(class_report)\n",
        "F1_score=f1_score(y_test, y_pred_bg)\n",
        "print('F1 SCORE:',F1_score)\n",
        "\n",
        "#____________________________________________________________________________________________________\n",
        "from sklearn.metrics import confusion_matrix\n",
        "cm_dtc = confusion_matrix(y_test,y_pred_bg)\n",
        "sns.heatmap(cm_dtc,annot=True,cmap=\"Blues\",fmt=\"d\",cbar=False, annot_kws={\"size\": 24})"
      ],
      "execution_count": 265,
      "outputs": [
        {
          "output_type": "execute_result",
          "data": {
            "text/plain": [
              "BaggingClassifier(base_estimator=LGBMClassifier(boosting_type='gbdt',\n",
              "                                                class_weight=None,\n",
              "                                                colsample_bytree=1.0,\n",
              "                                                importance_type='split',\n",
              "                                                learning_rate=0.1, max_depth=-1,\n",
              "                                                min_child_samples=20,\n",
              "                                                min_child_weight=0.001,\n",
              "                                                min_split_gain=0.0,\n",
              "                                                n_estimators=100, n_jobs=-1,\n",
              "                                                num_leaves=31, objective=None,\n",
              "                                                random_state=18, reg_alpha=0.0,\n",
              "                                                reg_lambda=0.0, silent=True,\n",
              "                                                subsample=1.0,\n",
              "                                                subsample_for_bin=200000,\n",
              "                                                subsample_freq=0),\n",
              "                  bootstrap=True, bootstrap_features=False, max_features=1.0,\n",
              "                  max_samples=1.0, n_estimators=10, n_jobs=None,\n",
              "                  oob_score=False, random_state=9, verbose=0, warm_start=False)"
            ]
          },
          "metadata": {
            "tags": []
          },
          "execution_count": 265
        },
        {
          "output_type": "stream",
          "text": [
            "              precision    recall  f1-score   support\n",
            "\n",
            "           0       0.95      0.94      0.95      5998\n",
            "           1       0.58      0.60      0.59       784\n",
            "\n",
            "    accuracy                           0.90      6782\n",
            "   macro avg       0.76      0.77      0.77      6782\n",
            "weighted avg       0.91      0.90      0.90      6782\n",
            "\n",
            "F1 SCORE: 0.5903689806128829\n"
          ],
          "name": "stdout"
        },
        {
          "output_type": "execute_result",
          "data": {
            "text/plain": [
              "<matplotlib.axes._subplots.AxesSubplot at 0x7fe1f7307da0>"
            ]
          },
          "metadata": {
            "tags": []
          },
          "execution_count": 265
        },
        {
          "output_type": "display_data",
          "data": {
            "image/png": "[encoded data removed]",
            "text/plain": [
              "<Figure size 432x288 with 1 Axes>"
            ]
          },
          "metadata": {
            "tags": []
          }
        }
      ]
    },
    {
      "cell_type": "code",
      "metadata": {
        "id": "4VpNR6rzCCLX",
        "colab_type": "code",
        "colab": {
          "base_uri": "https://localhost:8080/",
          "height": 587
        },
        "outputId": "e23e038f-a775-4ea6-8a7b-f868e443e6bd"
      },
      "source": [
        "#Rf tuned\n",
        "X7=df.drop('labels',1)\n",
        "y7=df['labels']\n",
        "\n",
        "#Intializing Random Forest Model\n",
        "rfc_model=RandomForestClassifier(criterion='gini',max_features='auto',random_state=9)\n",
        "\n",
        "#______________________________________________________________________________________________\n",
        "\n",
        "#Train Test split\n",
        "x_train,x_test,y_train,y_test= train_test_split(X7,y7,test_size=0.2,random_state=18)\n",
        "\n",
        "#Applying smote\n",
        "smote = SMOTE(ratio='minority')\n",
        "x_train_sm2,y_train_sm2 = smote.fit_sample(x_train, y_train)\n",
        "\n",
        "#fit and predict\n",
        "rfc_model.fit(x_train_sm2,y_train_sm2)\n",
        "y_pred_rfc=rfc_model.predict(x_test)\n",
        "\n",
        "#Evaluation metric\n",
        "class_report=classification_report(y_test,y_pred_rfc)\n",
        "print(class_report)\n",
        "F1_score=f1_score(y_test, y_pred_rfc)\n",
        "print('F1 SCORE:',F1_score)\n",
        "\n",
        "#Confusion metric\n",
        "from sklearn.metrics import confusion_matrix\n",
        "cm_dtc = confusion_matrix(y_test,y_pred_rfc)\n",
        "sns.heatmap(cm_dtc,annot=True,cmap=\"Blues\",fmt=\"d\",cbar=False, annot_kws={\"size\": 24})"
      ],
      "execution_count": 266,
      "outputs": [
        {
          "output_type": "execute_result",
          "data": {
            "text/plain": [
              "RandomForestClassifier(bootstrap=True, ccp_alpha=0.0, class_weight=None,\n",
              "                       criterion='gini', max_depth=None, max_features='auto',\n",
              "                       max_leaf_nodes=None, max_samples=None,\n",
              "                       min_impurity_decrease=0.0, min_impurity_split=None,\n",
              "                       min_samples_leaf=1, min_samples_split=2,\n",
              "                       min_weight_fraction_leaf=0.0, n_estimators=100,\n",
              "                       n_jobs=None, oob_score=False, random_state=9, verbose=0,\n",
              "                       warm_start=False)"
            ]
          },
          "metadata": {
            "tags": []
          },
          "execution_count": 266
        },
        {
          "output_type": "stream",
          "text": [
            "              precision    recall  f1-score   support\n",
            "\n",
            "           0       0.94      0.94      0.94      5998\n",
            "           1       0.56      0.57      0.56       784\n",
            "\n",
            "    accuracy                           0.90      6782\n",
            "   macro avg       0.75      0.75      0.75      6782\n",
            "weighted avg       0.90      0.90      0.90      6782\n",
            "\n",
            "F1 SCORE: 0.5622236260265319\n"
          ],
          "name": "stdout"
        },
        {
          "output_type": "execute_result",
          "data": {
            "text/plain": [
              "<matplotlib.axes._subplots.AxesSubplot at 0x7fe1f7171780>"
            ]
          },
          "metadata": {
            "tags": []
          },
          "execution_count": 266
        },
        {
          "output_type": "display_data",
          "data": {
            "image/png": "[encoded data removed]",
            "text/plain": [
              "<Figure size 432x288 with 1 Axes>"
            ]
          },
          "metadata": {
            "tags": []
          }
        }
      ]
    },
    {
      "cell_type": "code",
      "metadata": {
        "id": "ZPUnTu-NIoCp",
        "colab_type": "code",
        "colab": {
          "base_uri": "https://localhost:8080/",
          "height": 567
        },
        "outputId": "342ac047-966c-4a42-a3f4-0870c3345d3d"
      },
      "source": [
        "#Bagging Classifier for random forest\n",
        "from sklearn.ensemble import BaggingClassifier\n",
        "# Code starts here\n",
        "X3=df.drop('labels',1)\n",
        "y3=df['labels']\n",
        "#__________________________________________________________________________________________________________________\n",
        "bagging_clf_rf=BaggingClassifier(rfc_model,random_state=9)\n",
        "x_train,x_test,y_train,y_test= train_test_split(X3,y3,test_size=0.2,random_state=18)\n",
        "smote = SMOTE(ratio='minority')\n",
        "x_train_sm5, y_train_sm5 = smote.fit_sample(x_train, y_train)\n",
        "#_______________________________________________________________________________________________________________________\n",
        "bagging_clf_rf.fit(x_train_sm5,y_train_sm5)\n",
        "y_pred_bg_rf=bagging_clf_rf.predict(x_test)\n",
        "#_____________________________________________________________________________________________________________________\n",
        "class_report=classification_report(y_test,y_pred_bg_rf)\n",
        "print(class_report)\n",
        "F1_score=f1_score(y_test, y_pred_bg)\n",
        "print('F1 SCORE:',F1_score)"
      ],
      "execution_count": 267,
      "outputs": [
        {
          "output_type": "execute_result",
          "data": {
            "text/plain": [
              "BaggingClassifier(base_estimator=RandomForestClassifier(bootstrap=True,\n",
              "                                                        ccp_alpha=0.0,\n",
              "                                                        class_weight=None,\n",
              "                                                        criterion='gini',\n",
              "                                                        max_depth=None,\n",
              "                                                        max_features='auto',\n",
              "                                                        max_leaf_nodes=None,\n",
              "                                                        max_samples=None,\n",
              "                                                        min_impurity_decrease=0.0,\n",
              "                                                        min_impurity_split=None,\n",
              "                                                        min_samples_leaf=1,\n",
              "                                                        min_samples_split=2,\n",
              "                                                        min_weight_fraction_leaf=0.0,\n",
              "                                                        n_estimators=100,\n",
              "                                                        n_jobs=None,\n",
              "                                                        oob_score=False,\n",
              "                                                        random_state=9,\n",
              "                                                        verbose=0,\n",
              "                                                        warm_start=False),\n",
              "                  bootstrap=True, bootstrap_features=False, max_features=1.0,\n",
              "                  max_samples=1.0, n_estimators=10, n_jobs=None,\n",
              "                  oob_score=False, random_state=9, verbose=0, warm_start=False)"
            ]
          },
          "metadata": {
            "tags": []
          },
          "execution_count": 267
        },
        {
          "output_type": "stream",
          "text": [
            "              precision    recall  f1-score   support\n",
            "\n",
            "           0       0.95      0.93      0.94      5998\n",
            "           1       0.54      0.62      0.58       784\n",
            "\n",
            "    accuracy                           0.90      6782\n",
            "   macro avg       0.75      0.78      0.76      6782\n",
            "weighted avg       0.90      0.90      0.90      6782\n",
            "\n",
            "F1 SCORE: 0.5903689806128829\n"
          ],
          "name": "stdout"
        }
      ]
    },
    {
      "cell_type": "code",
      "metadata": {
        "id": "fJGulZChF1Us",
        "colab_type": "code",
        "colab": {
          "base_uri": "https://localhost:8080/",
          "height": 745
        },
        "outputId": "0f5818f7-2f6d-44ce-de67-6408fee444c9"
      },
      "source": [
        "#Ensemble method: Best acccracy\n",
        "from sklearn.ensemble import VotingClassifier\n",
        "X2=df.drop('labels',1)\n",
        "y2=df['labels']\n",
        "#______________________________________________________________________________________________________________________\n",
        "x_train,x_test,y_train,y_test= train_test_split(X2,y2,test_size=0.2,random_state=18)\n",
        "x_train_sm4, y_train_sm4 = smote.fit_sample(x_train,y_train)\n",
        "\n",
        "#______________________________________________________________________________________________________________________\n",
        "voting_clf_soft_2=VotingClassifier(estimators =[('bg_rf',bagging_clf_rf),('lgb_bg_2',bagging_clf)], voting = 'soft')\n",
        "voting_clf_soft_2.fit(x_train_sm4, y_train_sm4)\n",
        "y_pred_vote=voting_clf_soft_2.predict(x_test)\n",
        "\n",
        "#______________________________________________________________________________________________________________________________ \n",
        "class_report=classification_report(y_test,y_pred_vote)\n",
        "print(class_report)\n",
        "F1_score=f1_score(y_test, y_pred_vote)\n",
        "print('F1 SCORE:',F1_score)"
      ],
      "execution_count": 276,
      "outputs": [
        {
          "output_type": "execute_result",
          "data": {
            "text/plain": [
              "VotingClassifier(estimators=[('bg_rf',\n",
              "                              BaggingClassifier(base_estimator=RandomForestClassifier(bootstrap=True,\n",
              "                                                                                      ccp_alpha=0.0,\n",
              "                                                                                      class_weight=None,\n",
              "                                                                                      criterion='gini',\n",
              "                                                                                      max_depth=None,\n",
              "                                                                                      max_features='auto',\n",
              "                                                                                      max_leaf_nodes=None,\n",
              "                                                                                      max_samples=None,\n",
              "                                                                                      min_impurity_decrease=0.0,\n",
              "                                                                                      min_impurity_split=None,\n",
              "                                                                                      min_samples_leaf=1,\n",
              "                                                                                      min_samples_split=2,\n",
              "                                                                                      min_weight_fraction_leaf=0.0,\n",
              "                                                                                      n_...\n",
              "                                                                              objective=None,\n",
              "                                                                              random_state=18,\n",
              "                                                                              reg_alpha=0.0,\n",
              "                                                                              reg_lambda=0.0,\n",
              "                                                                              silent=True,\n",
              "                                                                              subsample=1.0,\n",
              "                                                                              subsample_for_bin=200000,\n",
              "                                                                              subsample_freq=0),\n",
              "                                                bootstrap=True,\n",
              "                                                bootstrap_features=False,\n",
              "                                                max_features=1.0,\n",
              "                                                max_samples=1.0,\n",
              "                                                n_estimators=10, n_jobs=None,\n",
              "                                                oob_score=False, random_state=9,\n",
              "                                                verbose=0, warm_start=False))],\n",
              "                 flatten_transform=True, n_jobs=None, voting='soft',\n",
              "                 weights=None)"
            ]
          },
          "metadata": {
            "tags": []
          },
          "execution_count": 276
        },
        {
          "output_type": "stream",
          "text": [
            "              precision    recall  f1-score   support\n",
            "\n",
            "           0       0.95      0.94      0.94      5998\n",
            "           1       0.56      0.61      0.59       784\n",
            "\n",
            "    accuracy                           0.90      6782\n",
            "   macro avg       0.76      0.77      0.77      6782\n",
            "weighted avg       0.90      0.90      0.90      6782\n",
            "\n",
            "F1 SCORE: 0.5870098039215687\n"
          ],
          "name": "stdout"
        }
      ]
    },
    {
      "cell_type": "code",
      "metadata": {
        "id": "mS47sufWSDR0",
        "colab_type": "code",
        "colab": {
          "base_uri": "https://localhost:8080/",
          "height": 34
        },
        "outputId": "58477ec6-1842-44f7-ee24-8b543f8127f9"
      },
      "source": [
        ""
      ],
      "execution_count": 116,
      "outputs": [
        {
          "output_type": "execute_result",
          "data": {
            "text/plain": [
              "(47886, 29)"
            ]
          },
          "metadata": {
            "tags": []
          },
          "execution_count": 116
        }
      ]
    },
    {
      "cell_type": "markdown",
      "metadata": {
        "id": "cACtau7MEucE",
        "colab_type": "text"
      },
      "source": [
        "## **Test Data**"
      ]
    },
    {
      "cell_type": "code",
      "metadata": {
        "id": "eF0iOaVeEtkW",
        "colab_type": "code",
        "colab": {
          "resources": {
            "http://localhost:8080/nbextensions/google.colab/files.js": {
              "data": "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",
              "ok": true,
              "headers": [
                [
                  "content-type",
                  "application/javascript"
                ]
              ],
              "status": 200,
              "status_text": ""
            }
          },
          "base_uri": "https://localhost:8080/",
          "height": 74
        },
        "outputId": "9345b234-4abf-4eb3-9841-da6992235ac8"
      },
      "source": [
        "from google.colab import files\n",
        "uploaded = files.upload()"
      ],
      "execution_count": 270,
      "outputs": [
        {
          "output_type": "display_data",
          "data": {
            "text/html": [
              "\n",
              "     <input type=\"file\" id=\"files-facc5b7f-361f-4e21-8ce9-348e3c10ff0a\" name=\"files[]\" multiple disabled />\n",
              "     <output id=\"result-facc5b7f-361f-4e21-8ce9-348e3c10ff0a\">\n",
              "      Upload widget is only available when the cell has been executed in the\n",
              "      current browser session. Please rerun this cell to enable.\n",
              "      </output>\n",
              "      <script src=\"/nbextensions/google.colab/files.js\"></script> "
            ],
            "text/plain": [
              "<IPython.core.display.HTML object>"
            ]
          },
          "metadata": {
            "tags": []
          }
        },
        {
          "output_type": "stream",
          "text": [
            "Saving Test.csv to Test (4).csv\n"
          ],
          "name": "stdout"
        }
      ]
    },
    {
      "cell_type": "code",
      "metadata": {
        "id": "_RA52V41FFsp",
        "colab_type": "code",
        "colab": {
          "base_uri": "https://localhost:8080/",
          "height": 217
        },
        "outputId": "98d8c325-d2d8-4cae-a710-0403187ba996"
      },
      "source": [
        "#Loading The Dataset\n",
        "import io\n",
        "#The command written below is generally used to load .csv format file or .data format file.\n",
        "test_df = pd.read_csv(io.BytesIO(uploaded['Test.csv']))\n",
        "test_df.head()"
      ],
      "execution_count": 277,
      "outputs": [
        {
          "output_type": "execute_result",
          "data": {
            "text/html": [
              "<div>\n",
              "<style scoped>\n",
              "    .dataframe tbody tr th:only-of-type {\n",
              "        vertical-align: middle;\n",
              "    }\n",
              "\n",
              "    .dataframe tbody tr th {\n",
              "        vertical-align: top;\n",
              "    }\n",
              "\n",
              "    .dataframe thead th {\n",
              "        text-align: right;\n",
              "    }\n",
              "</style>\n",
              "<table border=\"1\" class=\"dataframe\">\n",
              "  <thead>\n",
              "    <tr style=\"text-align: right;\">\n",
              "      <th></th>\n",
              "      <th>feature_0</th>\n",
              "      <th>feature_1</th>\n",
              "      <th>feature_2</th>\n",
              "      <th>feature_3</th>\n",
              "      <th>feature_4</th>\n",
              "      <th>feature_5</th>\n",
              "      <th>feature_6</th>\n",
              "      <th>feature_7</th>\n",
              "      <th>feature_8</th>\n",
              "      <th>feature_9</th>\n",
              "      <th>feature_10</th>\n",
              "      <th>feature_11</th>\n",
              "      <th>feature_12</th>\n",
              "      <th>feature_13</th>\n",
              "      <th>feature_14</th>\n",
              "      <th>feature_15</th>\n",
              "    </tr>\n",
              "  </thead>\n",
              "  <tbody>\n",
              "    <tr>\n",
              "      <th>0</th>\n",
              "      <td>0.57</td>\n",
              "      <td>0.41</td>\n",
              "      <td>0.98</td>\n",
              "      <td>0.01</td>\n",
              "      <td>-0.57</td>\n",
              "      <td>-0.41</td>\n",
              "      <td>-0.25</td>\n",
              "      <td>0</td>\n",
              "      <td>1</td>\n",
              "      <td>1</td>\n",
              "      <td>0</td>\n",
              "      <td>0</td>\n",
              "      <td>0</td>\n",
              "      <td>0</td>\n",
              "      <td>11</td>\n",
              "      <td>3</td>\n",
              "    </tr>\n",
              "    <tr>\n",
              "      <th>1</th>\n",
              "      <td>-1.12</td>\n",
              "      <td>-0.17</td>\n",
              "      <td>0.50</td>\n",
              "      <td>-0.32</td>\n",
              "      <td>0.72</td>\n",
              "      <td>0.55</td>\n",
              "      <td>0.18</td>\n",
              "      <td>0</td>\n",
              "      <td>2</td>\n",
              "      <td>1</td>\n",
              "      <td>0</td>\n",
              "      <td>0</td>\n",
              "      <td>0</td>\n",
              "      <td>0</td>\n",
              "      <td>5</td>\n",
              "      <td>1</td>\n",
              "    </tr>\n",
              "    <tr>\n",
              "      <th>2</th>\n",
              "      <td>0.48</td>\n",
              "      <td>0.15</td>\n",
              "      <td>-0.58</td>\n",
              "      <td>-0.69</td>\n",
              "      <td>-0.25</td>\n",
              "      <td>-0.41</td>\n",
              "      <td>-0.25</td>\n",
              "      <td>0</td>\n",
              "      <td>1</td>\n",
              "      <td>1</td>\n",
              "      <td>0</td>\n",
              "      <td>0</td>\n",
              "      <td>0</td>\n",
              "      <td>0</td>\n",
              "      <td>1</td>\n",
              "      <td>3</td>\n",
              "    </tr>\n",
              "    <tr>\n",
              "      <th>3</th>\n",
              "      <td>1.61</td>\n",
              "      <td>-0.45</td>\n",
              "      <td>1.83</td>\n",
              "      <td>-0.98</td>\n",
              "      <td>7.18</td>\n",
              "      <td>-0.41</td>\n",
              "      <td>-0.25</td>\n",
              "      <td>1</td>\n",
              "      <td>1</td>\n",
              "      <td>0</td>\n",
              "      <td>0</td>\n",
              "      <td>1</td>\n",
              "      <td>0</td>\n",
              "      <td>0</td>\n",
              "      <td>5</td>\n",
              "      <td>3</td>\n",
              "    </tr>\n",
              "    <tr>\n",
              "      <th>4</th>\n",
              "      <td>-0.94</td>\n",
              "      <td>-0.36</td>\n",
              "      <td>-1.18</td>\n",
              "      <td>-0.32</td>\n",
              "      <td>0.08</td>\n",
              "      <td>-0.41</td>\n",
              "      <td>-0.25</td>\n",
              "      <td>8</td>\n",
              "      <td>2</td>\n",
              "      <td>1</td>\n",
              "      <td>0</td>\n",
              "      <td>1</td>\n",
              "      <td>0</td>\n",
              "      <td>2</td>\n",
              "      <td>8</td>\n",
              "      <td>3</td>\n",
              "    </tr>\n",
              "  </tbody>\n",
              "</table>\n",
              "</div>"
            ],
            "text/plain": [
              "   feature_0  feature_1  feature_2  feature_3  feature_4  feature_5  \\\n",
              "0       0.57       0.41       0.98       0.01      -0.57      -0.41   \n",
              "1      -1.12      -0.17       0.50      -0.32       0.72       0.55   \n",
              "2       0.48       0.15      -0.58      -0.69      -0.25      -0.41   \n",
              "3       1.61      -0.45       1.83      -0.98       7.18      -0.41   \n",
              "4      -0.94      -0.36      -1.18      -0.32       0.08      -0.41   \n",
              "\n",
              "   feature_6  feature_7  feature_8  feature_9  feature_10  feature_11  \\\n",
              "0      -0.25          0          1          1           0           0   \n",
              "1       0.18          0          2          1           0           0   \n",
              "2      -0.25          0          1          1           0           0   \n",
              "3      -0.25          1          1          0           0           1   \n",
              "4      -0.25          8          2          1           0           1   \n",
              "\n",
              "   feature_12  feature_13  feature_14  feature_15  \n",
              "0           0           0          11           3  \n",
              "1           0           0           5           1  \n",
              "2           0           0           1           3  \n",
              "3           0           0           5           3  \n",
              "4           0           2           8           3  "
            ]
          },
          "metadata": {
            "tags": []
          },
          "execution_count": 277
        }
      ]
    },
    {
      "cell_type": "code",
      "metadata": {
        "id": "WvukbH5JQpUf",
        "colab_type": "code",
        "colab": {}
      },
      "source": [
        "#test_df=pd.get_dummies(test_df,columns=['feature_8','feature_9','feature_10','feature_11','feature_12','feature_13','feature_15'])\n",
        "#test_df.shape"
      ],
      "execution_count": 0,
      "outputs": []
    },
    {
      "cell_type": "code",
      "metadata": {
        "id": "7ok4wBQDl1WC",
        "colab_type": "code",
        "colab": {}
      },
      "source": [
        ""
      ],
      "execution_count": 0,
      "outputs": []
    },
    {
      "cell_type": "code",
      "metadata": {
        "id": "Evk6xo-GFHAw",
        "colab_type": "code",
        "colab": {}
      },
      "source": [
        "test_df['labels']=voting_clf_soft_2.predict(test_df)"
      ],
      "execution_count": 0,
      "outputs": []
    },
    {
      "cell_type": "code",
      "metadata": {
        "id": "SQ7C9YliFLdf",
        "colab_type": "code",
        "colab": {}
      },
      "source": [
        "\n",
        "A=test_df['labels']\n",
        "A=pd.DataFrame(A)"
      ],
      "execution_count": 0,
      "outputs": []
    },
    {
      "cell_type": "code",
      "metadata": {
        "id": "gMRwFty4FOHp",
        "colab_type": "code",
        "colab": {}
      },
      "source": [
        "A.to_excel('finals.xlsx')"
      ],
      "execution_count": 0,
      "outputs": []
    },
    {
      "cell_type": "code",
      "metadata": {
        "id": "huKYL-oYFTDg",
        "colab_type": "code",
        "colab": {}
      },
      "source": [
        "\n",
        "from google.colab import files\n",
        "files.download('finals.xlsx')"
      ],
      "execution_count": 0,
      "outputs": []
    }
  ]
}