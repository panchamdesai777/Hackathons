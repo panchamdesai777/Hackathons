{
  "nbformat": 4,
  "nbformat_minor": 0,
  "metadata": {
    "colab": {
      "name": "message_polarity_prediction.ipynb",
      "provenance": [],
      "authorship_tag": "ABX9TyNMJrpUSBuBkDHrqoApc5A/",
      "include_colab_link": true
    },
    "kernelspec": {
      "name": "python3",
      "display_name": "Python 3"
    }
  },
  "cells": [
    {
      "cell_type": "markdown",
      "metadata": {
        "id": "view-in-github",
        "colab_type": "text"
      },
      "source": [
        "<a href=\"https://colab.research.google.com/github/panchamdesai777/Hackathons/blob/master/message_polarity_prediction.ipynb\" target=\"_parent\"><img src=\"https://colab.research.google.com/assets/colab-badge.svg\" alt=\"Open In Colab\"/></a>"
      ]
    },
    {
      "cell_type": "markdown",
      "metadata": {
        "id": "WSRyU-R4E4PB",
        "colab_type": "text"
      },
      "source": [
        "# **Message Polarity Prediction**\n",
        "\n",
        "All of us receive a ton of messages and emails on a daily basis. Collectively, that is a lot of data which can provide useful insights about the messages that each of us gets. What if you could know whether a certain message has brought you good news or bad news before opening the actual message. In this challenge, we will use Machine Learning to achieve this.\n",
        "\n",
        "![alt text](https://www.machinehack.com/wp-content/uploads/2020/04/wk3-banner_2-1536x864.jpg)\n",
        "\n",
        "## **Objective**\n",
        "\n",
        "Given are 53 distinguishing factors that can help in understanding the polarity(Good or Bad) of a message,  your objective as a data scientist is to build a Machine Learning model that can predict whether a text message has brought you good news or bad news.\n",
        "\n",
        "## **Dataset Description**\n",
        "\n",
        "You are provided with the normalized frequencies of 50 words/emojis (Freq_Of_Word_1 to Freq_Of_Word_50) along with 3 engineered features listed below:\n",
        "\n",
        "* TotalEmojiCharacters: Total number of individual emoji characters normalized. (eg. 🙂 )\n",
        "* LengthOFFirstParagraph: The total length of the first paragraph in words normalized\n",
        "* StylizedLetters: Total number of letters or characters with a styling element normalized\n",
        "\n",
        "* Target Variable: IsGoodNews\n",
        "\n",
        "## Dataset Overview\n",
        "\n",
        "* Train data\n",
        "![alt text](https://www.machinehack.com/wp-content/uploads/2020/04/Screenshot-2020-04-28-at-4.29.36-PM-1024x257.png)\n",
        "\n",
        "\n",
        "* Test data\n",
        "\n",
        " ![alt text](https://www.machinehack.com/wp-content/uploads/2020/04/Screenshot-2020-04-28-at-4.29.56-PM-1024x279.png)\n"
      ]
    },
    {
      "cell_type": "code",
      "metadata": {
        "id": "GFoREUy9EY7m",
        "colab_type": "code",
        "colab": {}
      },
      "source": [
        "#importing all the libraries\n",
        "import numpy as np\n",
        "import pandas as pd\n",
        "import matplotlib.pyplot as plt\n",
        "import matplotlib.style as style # for styling the graphss\n",
        "# style.available (to know the available list of styles)\n",
        "style.use('ggplot') # chosen style\n",
        "plt.rc('xtick',labelsize=13) # to globally set the tick size\n",
        "plt.rc('ytick',labelsize=13) # to globally set the tick size\n",
        "# To print multiple outputs together\n",
        "from IPython.core.interactiveshell import InteractiveShell\n",
        "InteractiveShell.ast_node_interactivity = \"all\"\n",
        "# Change column display number during print\n",
        "pd.set_option('display.max_columns', 500)\n",
        "# Ignore warnings\n",
        "import warnings\n",
        "warnings.filterwarnings('ignore')\n",
        "# To display float with 2 decimal, avoid scientific printing\n",
        "pd.options.display.float_format = '{:.2f}'.format\n",
        "import seaborn as sns\n",
        "import warnings\n",
        "from sklearn.linear_model import LogisticRegression\n",
        "from sklearn.tree import DecisionTreeClassifier\n",
        "from sklearn.model_selection import train_test_split\n",
        "from sklearn.metrics import confusion_matrix, precision_recall_curve, auc, roc_auc_score, roc_curve, recall_score, classification_report\n",
        "from sklearn.metrics import roc_auc_score ,mean_squared_error,accuracy_score,classification_report,roc_curve,confusion_matrix,precision_score,f1_score\n",
        "import itertools\n",
        "from sklearn.model_selection import GridSearchCV, cross_val_score\n",
        "from sklearn.ensemble import RandomForestClassifier\n",
        "from xgboost import XGBClassifier\n",
        "from lightgbm import LGBMClassifier"
      ],
      "execution_count": 0,
      "outputs": []
    },
    {
      "cell_type": "code",
      "metadata": {
        "id": "Y0XEzwssN196",
        "colab_type": "code",
        "colab": {}
      },
      "source": [
        "from google.colab import files\n",
        "uploaded = files.upload()"
      ],
      "execution_count": 0,
      "outputs": []
    }
  ]
}